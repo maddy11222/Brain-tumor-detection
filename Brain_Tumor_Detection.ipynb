{
  "cells": [
    {
      "cell_type": "code",
      "execution_count": 1,
      "metadata": {
        "id": "aMe2iS7bJLBe"
      },
      "outputs": [],
      "source": [
        "import numpy as np\n",
        "import pandas as pd\n",
        "from skimage.color import rgb2gray\n",
        "from scipy import ndimage\n",
        "import cv2\n",
        "import matplotlib.pyplot as plt\n",
        "from sklearn.model_selection import train_test_split\n",
        "from sklearn.metrics import accuracy_score"
      ]
    },
    {
      "cell_type": "code",
      "execution_count": 2,
      "metadata": {
        "colab": {
          "base_uri": "https://localhost:8080/",
          "height": 218
        },
        "id": "Uuhjtdb_JLBg",
        "outputId": "b085a785-2d92-4a1a-e68a-2669ac62436b"
      },
      "outputs": [
        {
          "output_type": "error",
          "ename": "FileNotFoundError",
          "evalue": "ignored",
          "traceback": [
            "\u001b[0;31m---------------------------------------------------------------------------\u001b[0m",
            "\u001b[0;31mFileNotFoundError\u001b[0m                         Traceback (most recent call last)",
            "\u001b[0;32m<ipython-input-2-685cf5493736>\u001b[0m in \u001b[0;36m<module>\u001b[0;34m\u001b[0m\n\u001b[1;32m      1\u001b[0m \u001b[0;32mimport\u001b[0m \u001b[0mos\u001b[0m\u001b[0;34m\u001b[0m\u001b[0;34m\u001b[0m\u001b[0m\n\u001b[1;32m      2\u001b[0m \u001b[0;34m\u001b[0m\u001b[0m\n\u001b[0;32m----> 3\u001b[0;31m \u001b[0mpath\u001b[0m \u001b[0;34m=\u001b[0m \u001b[0mos\u001b[0m\u001b[0;34m.\u001b[0m\u001b[0mlistdir\u001b[0m\u001b[0;34m(\u001b[0m\u001b[0;34mr'C:\\Users\\Administrator\\Downloads\\Training'\u001b[0m\u001b[0;34m)\u001b[0m\u001b[0;34m\u001b[0m\u001b[0;34m\u001b[0m\u001b[0m\n\u001b[0m\u001b[1;32m      4\u001b[0m \u001b[0mclasses\u001b[0m \u001b[0;34m=\u001b[0m \u001b[0;34m{\u001b[0m\u001b[0;34m'no_tumor'\u001b[0m\u001b[0;34m:\u001b[0m\u001b[0;36m0\u001b[0m\u001b[0;34m,\u001b[0m \u001b[0;34m'pituitary_tumor'\u001b[0m\u001b[0;34m:\u001b[0m\u001b[0;36m1\u001b[0m\u001b[0;34m}\u001b[0m\u001b[0;34m\u001b[0m\u001b[0;34m\u001b[0m\u001b[0m\n",
            "\u001b[0;31mFileNotFoundError\u001b[0m: [Errno 2] No such file or directory: 'C:\\\\Users\\\\Administrator\\\\Downloads\\\\Training'"
          ]
        }
      ],
      "source": [
        "import os\n",
        "\n",
        "path = os.listdir(r'C:\\Users\\Administrator\\Downloads\\Training')\n",
        "classes = {'no_tumor':0, 'pituitary_tumor':1}"
      ]
    },
    {
      "cell_type": "markdown",
      "metadata": {
        "id": "Z4ACvc_IJLBh"
      },
      "source": [
        "# Edge base segmentation"
      ]
    },
    {
      "cell_type": "code",
      "execution_count": null,
      "metadata": {
        "scrolled": true,
        "id": "EoWKsMLzJLBi"
      },
      "outputs": [],
      "source": [
        "image = cv2.imread('Sample.png')\n",
        "image.shape\n",
        "plt.imshow(image)\n"
      ]
    },
    {
      "cell_type": "code",
      "execution_count": null,
      "metadata": {
        "id": "KF2ls5X_JLBi"
      },
      "outputs": [],
      "source": [
        "gray = rgb2gray(image)\n",
        "\n",
        "sobel_horizontal = np.array([np.array([1, 2, 1]), np.array([0, 0, 0]), np.array([-1, -2, -1])])\n",
        "sobel_vertical = np.array([np.array([-1, 0, 1]), np.array([-2, 0, 2]), np.array([-1, 0, 1])])\n",
        "\n",
        "out_h = ndimage.convolve(gray, sobel_horizontal, mode='reflect')\n",
        "out_v = ndimage.convolve(gray, sobel_vertical, mode='reflect')"
      ]
    },
    {
      "cell_type": "code",
      "execution_count": null,
      "metadata": {
        "id": "H6kcRu_pJLBi"
      },
      "outputs": [],
      "source": [
        "plt.imshow(out_h, cmap='gray')"
      ]
    },
    {
      "cell_type": "code",
      "execution_count": null,
      "metadata": {
        "id": "GBjFZxqfJLBj"
      },
      "outputs": [],
      "source": [
        "plt.imshow(out_v, cmap='gray')"
      ]
    },
    {
      "cell_type": "markdown",
      "metadata": {
        "id": "uqyx6L-AJLBj"
      },
      "source": [
        "# Region based segmentation"
      ]
    },
    {
      "cell_type": "code",
      "execution_count": null,
      "metadata": {
        "id": "C7omz1j8JLBj"
      },
      "outputs": [],
      "source": [
        "gray = rgb2gray(image)\n",
        "plt.imshow(gray, cmap='gray')"
      ]
    },
    {
      "cell_type": "code",
      "execution_count": null,
      "metadata": {
        "id": "8cDFxFYRJLBj"
      },
      "outputs": [],
      "source": [
        "gray.shape"
      ]
    },
    {
      "cell_type": "code",
      "execution_count": null,
      "metadata": {
        "id": "MPoK57HBJLBk"
      },
      "outputs": [],
      "source": [
        "gray_r = gray.reshape(gray.shape[0]*gray.shape[1])\n",
        "for i in range(gray_r.shape[0]):\n",
        "    if gray_r[i] > gray_r.mean():\n",
        "        gray_r[i] = 1\n",
        "    else:\n",
        "        gray_r[i] = 0\n",
        "gray = gray_r.reshape(gray.shape[0],gray.shape[1])\n",
        "plt.imshow(gray, cmap='gray')"
      ]
    },
    {
      "cell_type": "markdown",
      "metadata": {
        "id": "vurdnvbsJLBk"
      },
      "source": [
        "# Clustering based segmentation"
      ]
    },
    {
      "cell_type": "code",
      "execution_count": null,
      "metadata": {
        "id": "8gOZucU_JLBk"
      },
      "outputs": [],
      "source": [
        "original_image = cv2.imread('p.jpg')\n",
        "plt.imshow(original_image)"
      ]
    },
    {
      "cell_type": "code",
      "execution_count": null,
      "metadata": {
        "id": "sLMvgn9AJLBl"
      },
      "outputs": [],
      "source": [
        "img = cv2.cvtColor(original_image, cv2.COLOR_BGR2RGB)\n",
        "plt.imshow(img)"
      ]
    },
    {
      "cell_type": "code",
      "execution_count": null,
      "metadata": {
        "id": "rIqhUVuMJLBl"
      },
      "outputs": [],
      "source": [
        "vectorized = img.reshape((-1,3))\n",
        "vectorized = np.float32(vectorized)\n"
      ]
    },
    {
      "cell_type": "code",
      "execution_count": null,
      "metadata": {
        "id": "GdmsQzewJLBl"
      },
      "outputs": [],
      "source": [
        "criteria = (cv2.TERM_CRITERIA_EPS + cv2.TERM_CRITERIA_MAX_ITER, 10, 1.0)\n",
        "K = 3\n",
        "attempts=10\n",
        "ret,label,center=cv2.kmeans(vectorized,K,None,criteria,attempts,cv2.KMEANS_PP_CENTERS)"
      ]
    },
    {
      "cell_type": "code",
      "execution_count": null,
      "metadata": {
        "id": "Ng980ApqJLBl"
      },
      "outputs": [],
      "source": [
        "center = np.uint8(center)\n",
        "\n",
        "res = center[label.flatten()]\n",
        "result_image = res.reshape((img.shape))"
      ]
    },
    {
      "cell_type": "code",
      "execution_count": null,
      "metadata": {
        "id": "v_FXUWmPJLBl"
      },
      "outputs": [],
      "source": [
        "figure_size = 15\n",
        "plt.figure(figsize=(figure_size,figure_size))\n",
        "plt.subplot(1,2,1),plt.imshow(img)\n",
        "plt.title('Original Image'), plt.xticks([]), plt.yticks([])\n",
        "plt.subplot(1,2,2),plt.imshow(result_image)\n",
        "plt.title('Segmented Image when K = %i' % K), plt.xticks([]), plt.yticks([])\n",
        "plt.show()"
      ]
    },
    {
      "cell_type": "code",
      "execution_count": null,
      "metadata": {
        "id": "2AXewB_1JLBm"
      },
      "outputs": [],
      "source": [
        "import cv2\n",
        "X = []\n",
        "Y = []\n",
        "for cls in classes:\n",
        "    pth = 'C:/Users/Administrator/Downloads/Training/' + cls\n",
        "    for j in os.listdir(pth):\n",
        "        img = cv2.imread(pth+'/'+j, 0)\n",
        "        img = cv2.resize(img, (200,200))\n",
        "        X.append(img)\n",
        "        Y.append(classes[cls])\n"
      ]
    },
    {
      "cell_type": "code",
      "execution_count": null,
      "metadata": {
        "id": "Gw_-vjNpJLBm"
      },
      "outputs": [],
      "source": [
        "X = np.array(X)\n",
        "Y = np.array(Y)"
      ]
    },
    {
      "cell_type": "code",
      "execution_count": null,
      "metadata": {
        "id": "gPt5aroHJLBm"
      },
      "outputs": [],
      "source": [
        "np.unique(Y)"
      ]
    },
    {
      "cell_type": "code",
      "execution_count": null,
      "metadata": {
        "id": "fFtik2QqJLBm"
      },
      "outputs": [],
      "source": [
        "\n",
        "pd.Series(Y).value_counts()"
      ]
    },
    {
      "cell_type": "code",
      "execution_count": null,
      "metadata": {
        "id": "BCXHhhngJLBn"
      },
      "outputs": [],
      "source": [
        "X.shape"
      ]
    },
    {
      "cell_type": "markdown",
      "metadata": {
        "id": "z37yL3quJLBn"
      },
      "source": [
        "# Visualisng The Data"
      ]
    },
    {
      "cell_type": "code",
      "execution_count": null,
      "metadata": {
        "id": "MZ_fzeF_JLBn"
      },
      "outputs": [],
      "source": [
        "plt.imshow(X[0], cmap='gray')"
      ]
    },
    {
      "cell_type": "code",
      "execution_count": null,
      "metadata": {
        "id": "zI6u6U3BJLBn"
      },
      "outputs": [],
      "source": [
        "X_updated = X.reshape(len(X), -1)\n",
        "X_updated.shape"
      ]
    },
    {
      "cell_type": "code",
      "execution_count": null,
      "metadata": {
        "id": "-UvG5O8fJLBn"
      },
      "outputs": [],
      "source": [
        "xtrain, xtest, ytrain, ytest = train_test_split(X_updated, Y, random_state=10,\n",
        "                                               test_size=.20)"
      ]
    },
    {
      "cell_type": "code",
      "execution_count": null,
      "metadata": {
        "id": "tV6j6ajKJLBo"
      },
      "outputs": [],
      "source": [
        "xtrain.shape, xtest.shape"
      ]
    },
    {
      "cell_type": "code",
      "execution_count": null,
      "metadata": {
        "scrolled": true,
        "id": "rk2A6VaEJLBo"
      },
      "outputs": [],
      "source": [
        "print(xtrain.max(), xtrain.min())\n",
        "print(xtest.max(), xtest.min())\n",
        "xtrain = xtrain/255\n",
        "xtest = xtest/255\n",
        "print(xtrain.max(), xtrain.min())\n",
        "print(xtest.max(), xtest.min())"
      ]
    },
    {
      "cell_type": "code",
      "execution_count": null,
      "metadata": {
        "id": "dbLv5OmOJLBo"
      },
      "outputs": [],
      "source": [
        "from sklearn.decomposition import PCA"
      ]
    },
    {
      "cell_type": "code",
      "execution_count": null,
      "metadata": {
        "id": "Tsy_LjeSJLBo"
      },
      "outputs": [],
      "source": [
        "print(xtrain.shape, xtest.shape)\n",
        "\n",
        "pca = PCA(.98)\n",
        "# pca_train = pca.fit_transform(xtrain)\n",
        "# pca_test = pca.transform(xtest)\n",
        "pca_train = xtrain\n",
        "pca_test = xtest"
      ]
    },
    {
      "cell_type": "code",
      "execution_count": null,
      "metadata": {
        "id": "tgTr0NjfJLBo"
      },
      "outputs": [],
      "source": [
        "from sklearn.linear_model import LogisticRegression\n",
        "from sklearn.svm import SVC"
      ]
    },
    {
      "cell_type": "code",
      "execution_count": null,
      "metadata": {
        "id": "HM_41_6KJLBo"
      },
      "outputs": [],
      "source": [
        "import warnings\n",
        "warnings.filterwarnings('ignore')\n",
        "\n",
        "lg = LogisticRegression(C=0.1)\n",
        "lg.fit(pca_train, ytrain)"
      ]
    },
    {
      "cell_type": "code",
      "execution_count": null,
      "metadata": {
        "id": "LzzcR-mGJLBo"
      },
      "outputs": [],
      "source": [
        "sv = SVC()\n",
        "sv.fit(pca_train, ytrain)"
      ]
    },
    {
      "cell_type": "code",
      "execution_count": null,
      "metadata": {
        "id": "1u5mRpveJLBp"
      },
      "outputs": [],
      "source": [
        "print(\"Training Score:\", lg.score(pca_train, ytrain))\n",
        "print(\"Testing Score:\", lg.score(pca_test, ytest))"
      ]
    },
    {
      "cell_type": "code",
      "execution_count": null,
      "metadata": {
        "id": "6O3U3joRJLBp"
      },
      "outputs": [],
      "source": [
        "print(\"Training Score:\", sv.score(pca_train, ytrain))\n",
        "print(\"Testing Score:\", sv.score(pca_test, ytest))"
      ]
    },
    {
      "cell_type": "code",
      "execution_count": null,
      "metadata": {
        "id": "hmun32oWJLBp"
      },
      "outputs": [],
      "source": [
        "pred = sv.predict(pca_test)\n",
        "np.where(ytest!=pred)"
      ]
    },
    {
      "cell_type": "code",
      "execution_count": null,
      "metadata": {
        "id": "OkXWHtO4JLBp"
      },
      "outputs": [],
      "source": [
        "pred[36]"
      ]
    },
    {
      "cell_type": "code",
      "execution_count": null,
      "metadata": {
        "id": "VeGMD5IQJLBp"
      },
      "outputs": [],
      "source": [
        "ytest[36]"
      ]
    },
    {
      "cell_type": "code",
      "execution_count": null,
      "metadata": {
        "id": "UvivLVyPJLBp"
      },
      "outputs": [],
      "source": [
        "dec = {0:'No Tumor', 1:'Positive Tumor'}"
      ]
    },
    {
      "cell_type": "code",
      "execution_count": null,
      "metadata": {
        "id": "R9egjOdKJLBp"
      },
      "outputs": [],
      "source": [
        "plt.figure(figsize=(12,8))\n",
        "p = os.listdir(r'C:/Users/Administrator/Downloads/Testing')\n",
        "c=1\n",
        "for i in os.listdir(r'C:/Users/Administrator/Downloads/Testing/no_tumor/')[:9]:\n",
        "    plt.subplot(3,3,c)\n",
        "    \n",
        "    img = cv2.imread(r'C:/Users/Administrator/Downloads/Testing/no_tumor/'+i,0)\n",
        "    img1 = cv2.resize(img, (200,200))\n",
        "    img1 = img1.reshape(1,-1)/255\n",
        "    p = sv.predict(img1)\n",
        "    plt.title(dec[p[0]])\n",
        "    plt.imshow(img, cmap='gray')\n",
        "    plt.axis('off')\n",
        "    c+=1"
      ]
    },
    {
      "cell_type": "code",
      "execution_count": null,
      "metadata": {
        "id": "kiFepLO7JLBq"
      },
      "outputs": [],
      "source": [
        "plt.figure(figsize=(12,8))\n",
        "p = os.listdir(r'C:/Users/Administrator/Downloads/Testing')\n",
        "c=1\n",
        "for i in os.listdir(r'C:/Users/Administrator/Downloads/Testing/pituitary_tumor/')[:16]:\n",
        "    plt.subplot(4,4,c)\n",
        "    \n",
        "    img = cv2.imread(r'C:/Users/Administrator/Downloads/Testing/pituitary_tumor/'+i,0)\n",
        "    img1 = cv2.resize(img, (200,200))\n",
        "    img1 = img1.reshape(1,-1)/255\n",
        "    p = sv.predict(img1)\n",
        "    plt.title(dec[p[0]])\n",
        "    plt.imshow(img, cmap='gray')\n",
        "    plt.axis('off')\n",
        "    c+=1"
      ]
    },
    {
      "cell_type": "code",
      "execution_count": null,
      "metadata": {
        "id": "2CSco-VRJLBq"
      },
      "outputs": [],
      "source": []
    }
  ],
  "metadata": {
    "kernelspec": {
      "display_name": "Python 3 (ipykernel)",
      "language": "python",
      "name": "python3"
    },
    "language_info": {
      "codemirror_mode": {
        "name": "ipython",
        "version": 3
      },
      "file_extension": ".py",
      "mimetype": "text/x-python",
      "name": "python",
      "nbconvert_exporter": "python",
      "pygments_lexer": "ipython3",
      "version": "3.9.12"
    },
    "vscode": {
      "interpreter": {
        "hash": "9781c75f8ebb8db568c34abc6fa56aff5b950f24b8cfd6fe8af6829c67f4ac57"
      }
    },
    "colab": {
      "provenance": []
    }
  },
  "nbformat": 4,
  "nbformat_minor": 0
}